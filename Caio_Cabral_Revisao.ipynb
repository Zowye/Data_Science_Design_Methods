{
 "cells": [
  {
   "cell_type": "markdown",
   "metadata": {
    "id": "Gn9j8fTNpiRu"
   },
   "source": [
    "# Revisão Rápida - Python - Caio Cabral\n",
    "\n",
    "> Indented block\n",
    "\n",
    "\n"
   ]
  },
  {
   "cell_type": "markdown",
   "metadata": {
    "id": "Wg5DVAM8piRv"
   },
   "source": [
    "## **Antes de começarmos**\n",
    "\n",
    "1. Crie uma conta no GitHub: https://github.com/signup?source=login ou caso já tenha uma conta, faça a autenticação do seu usuário.\n",
    "2. Crie um repositório para utilizarmos durante as aulas. Este repositório precisa ter um arquivo \"README\", logo, marque a opção **\"Add a README file\"**.\n",
    "3. O nome pode do seu repositório pode ser **PADSW06MDCD**, por exemplo.\n",
    "4. Nesta Janela (que estamos agora), clique em Arquivo > Salvar uma Cópia no GitHub\n",
    "5. Em seguida, duas coisas podem acontecer (i) um **popup aparecer**: solicitando que você autorize o acesso ao seu **GitHub** por sua conta do **Colab** ou (ii) caso apareça alguma mensagem de erro, clique em \"Abrir em uma nova janela\".\n",
    "6. Em ambos os casos: autorize o acesso a sua conta do **GitHub**\n",
    "7. Por fim, escolha o repositório criado anteriormente e digite um comentário que represente a versão do seu projeto. Neste caso, pode ser. \"Copiando a lista de revisão\".\n",
    "\n",
    "\n",
    "- Google Colab\n",
    "    - colab.research.google.com/\n",
    "\n",
    "#### Sintáxe Básica Markdown\n",
    "\n",
    "[Material Aqui](https://www.markdownguide.org/basic-syntax/)\n",
    "\n",
    "Dicas Básicas de Sintáxe\n",
    "\n",
    "- Não utiliza ;\n",
    "- comentários podem ser feitos utilizando #\n",
    "- Variáveis precisam ser inicializada antes de seu uso\n",
    "- Podemos utilizar variáveis literais ou objetos\n",
    "- operações matemáticas básicas: + - / * ** %\n",
    "- Valor nulo é escrito como **None**\n",
    "- Blocos de códigos ou funções devem ter sempre *identação* ou seja, devem ter um tab para medir cada escopo\n",
    "- Blocos vazios devem conter pelo menos um comando **pass**\n",
    "- Saídas de dados podem ser feitas em sua maioria com o comando **print**, no entanto, saídas mais complexas funcionam sempre com **display**\n",
    "- Python possui tipagem "
   ]
  },
  {
   "cell_type": "markdown",
   "metadata": {
    "id": "v9b_KRsVpiRw"
   },
   "source": [
    "### Variáveis/Objetos\n",
    "\n",
    "- Crie um conjunto de variáveis para cada um dos tipos: número inteiro, string, booleano e número real\n",
    "- Exiba o conteúdo de uma destas variáveis e exiba o tipo de outra variável"
   ]
  },
  {
   "cell_type": "code",
   "execution_count": null,
   "metadata": {
    "cellView": "form",
    "id": "GI2fccBupiRw"
   },
   "outputs": [],
   "source": [
    "#@title Ver exemplo\n",
    "numero_vendas = 23000\n",
    "nome_disciplina = 'Métodos de Design para Ciência de Dados'\n",
    "nome_instituicao = \"Insper\"\n",
    "possui_diploma = True\n",
    "receita_bruta = 312312.24\n",
    "\n",
    "print(receita_bruta) #Saída de Dados\n",
    "print(type(possui_diploma)) #como verificar o tipo de dado | pode utilizar display () também"
   ]
  },
  {
   "cell_type": "code",
   "execution_count": 5,
   "metadata": {
    "id": "GiPavqmeTQtb"
   },
   "outputs": [],
   "source": [
    "# Inteiro\n",
    "idade = 50;\n",
    "\n",
    "# String\n",
    "nome = \"Willian Shakespeare\"\n",
    "\n",
    "# Booleano\n",
    "is_true = 5 == 10\n",
    "\n",
    "# Número Real\n",
    "real_number = 1.234"
   ]
  },
  {
   "cell_type": "markdown",
   "metadata": {
    "id": "DSUCJHb9piRx"
   },
   "source": [
    "### Entrada e Saída de Dados\n",
    "\n",
    "- Realize a leitura de um dado do tipo String e exiba este texto apenas com letras maísculas\n",
    "\n",
    "Dica.: Métodos de uma String em Python\n",
    "https://www.w3schools.com/python/python_ref_string.asp\n"
   ]
  },
  {
   "cell_type": "code",
   "execution_count": null,
   "metadata": {
    "cellView": "form",
    "id": "E7sOsU7kpiRy"
   },
   "outputs": [],
   "source": [
    "#@title Ver exemplo\n",
    "nome_usuario = input('Insira um nome aqui:') #para ler dados do usuário\n",
    "print('Nome com letras maísculas: ', nome_usuario.upper()) #printando nome e mostrando tudo em letra maiúscula"
   ]
  },
  {
   "cell_type": "code",
   "execution_count": 8,
   "metadata": {
    "colab": {
     "base_uri": "https://localhost:8080/"
    },
    "id": "YzKhsr3-X_gp",
    "outputId": "0a48e040-2a42-441e-ce13-1ff6da48ddc7"
   },
   "outputs": [
    {
     "name": "stdout",
     "output_type": "stream",
     "text": [
      "testando\n",
      "TESTANDO\n"
     ]
    }
   ],
   "source": [
    "my_string = input()\n",
    "print(my_string.upper())"
   ]
  },
  {
   "cell_type": "markdown",
   "metadata": {
    "id": "9nPDCl5GS81e"
   },
   "source": [
    "- Realize a leitura de um dado do tipo inteiro, alocaondo-o em uma variável e exiba o conteúdo desta variável no meio de um texto."
   ]
  },
  {
   "cell_type": "code",
   "execution_count": null,
   "metadata": {
    "cellView": "form",
    "id": "yOFQ47RqqcPG"
   },
   "outputs": [],
   "source": [
    "#@title Ver exemplo\n",
    "idade_usuario = int(input(\"Informe sua idade: \")) #lembrar de fazer um casting para o tipo de dado\n",
    "print(f'Você possuí {idade_usuario} de idade')"
   ]
  },
  {
   "cell_type": "code",
   "execution_count": 11,
   "metadata": {
    "colab": {
     "base_uri": "https://localhost:8080/"
    },
    "id": "9M9RR3aKX_EZ",
    "outputId": "2bec30d8-bc88-44b9-a862-486a4e926282"
   },
   "outputs": [
    {
     "name": "stdout",
     "output_type": "stream",
     "text": [
      "James Stewart tem 77 anos.\n"
     ]
    }
   ],
   "source": [
    "ano_nascimento = 1945\n",
    "nome = \"James Stewart\"\n",
    "print(f'{nome} tem {2022 - ano_nascimento} anos.')"
   ]
  },
  {
   "cell_type": "markdown",
   "metadata": {
    "id": "XoObw2t6TU4X"
   },
   "source": [
    "- Crie um par de constantes reais e exiba o resultado de uma operação matemática, utilizando estas constantes em uma saída de dados (utilizando print). Após isso, garanta que o resultado do cálculo tenha apenas duas casas decimáis."
   ]
  },
  {
   "cell_type": "code",
   "execution_count": null,
   "metadata": {
    "cellView": "form",
    "id": "f2H0h7rUpiRy"
   },
   "outputs": [],
   "source": [
    "#@title Ver exemplo\n",
    "pi = 3.1415926535\n",
    "salario = 15341.14\n",
    "print('O novo salário: R${0:.2f}, após o aumento, é de: R${1:.2f}'.format(salario, salario * pi)) #outra forma de utilizar variáveis com dados"
   ]
  },
  {
   "cell_type": "code",
   "execution_count": 13,
   "metadata": {
    "colab": {
     "base_uri": "https://localhost:8080/"
    },
    "id": "bFjZrjaTTiGk",
    "outputId": "411ddee6-5ae3-4a09-fc98-c6f977d1f1a9"
   },
   "outputs": [
    {
     "name": "stdout",
     "output_type": "stream",
     "text": [
      "The result is: 16.67\n"
     ]
    }
   ],
   "source": [
    "dividendo = 50\n",
    "divisor = 3\n",
    "quociente = round(dividendo / divisor, 2)\n",
    "print(f\"The result is: {quociente}\")"
   ]
  },
  {
   "cell_type": "markdown",
   "metadata": {
    "id": "4qO8tIdMxB1Q"
   },
   "source": [
    "### Operações com String\n",
    "\n",
    "- Armazene um e-mail em uma variável, por exemplo, homer@simpson.com e separe o nome do usuário {homer} do serviço de e-mail {simpson}"
   ]
  },
  {
   "cell_type": "code",
   "execution_count": null,
   "metadata": {
    "cellView": "form",
    "id": "of8D-wk9piRy"
   },
   "outputs": [],
   "source": [
    "#@title Ver exemplo\n",
    "texto_complexo = 'homer@simpson.com'\n",
    "\n",
    "usuario = texto_complexo.split('@')[0] #operações com String (split gera uma lista de dados)\n",
    "dominio = texto_complexo.split('@')[1].split('.')[0]\n",
    "\n",
    "print(\"Usuário: {0} - Domínio: {1}\".format(usuario, dominio))"
   ]
  },
  {
   "cell_type": "code",
   "execution_count": 18,
   "metadata": {
    "colab": {
     "base_uri": "https://localhost:8080/"
    },
    "id": "N6sFoglUX-To",
    "outputId": "aacbb8e5-1d64-436f-d04e-defbd7d7cc03"
   },
   "outputs": [
    {
     "name": "stdout",
     "output_type": "stream",
     "text": [
      "O nome eh: homer o provedor eh: simpson\n"
     ]
    }
   ],
   "source": [
    "email = \"homer@simpson.com\"\n",
    "\n",
    "nome = email.split('@')[0]\n",
    "provedor = email.split('@')[1].split('.')[0]\n",
    "\n",
    "print(f'O nome eh: {nome} o provedor eh: {provedor}')"
   ]
  },
  {
   "cell_type": "markdown",
   "metadata": {
    "id": "lAHFue05UR16"
   },
   "source": [
    "- Crie uma lista contendo os dados\n",
    "['São Paulo - SP', 'Itajaí - SC', 'Rio de Janeiro - RJ']\n",
    "- Após isso, exiba apenas os estados de cada cidade."
   ]
  },
  {
   "cell_type": "code",
   "execution_count": null,
   "metadata": {
    "cellView": "form",
    "id": "4Owl5sz5piRy"
   },
   "outputs": [],
   "source": [
    "#@title Ver exemplo\n",
    "lista_textos = ['São Paulo - SP', 'Itajaí - SC', 'Rio de Janeiro - RJ']\n",
    "\n",
    "for um_texto in lista_textos:\n",
    "    print(um_texto.split('-')[1].split('|')[0])"
   ]
  },
  {
   "cell_type": "code",
   "execution_count": 1,
   "metadata": {
    "colab": {
     "base_uri": "https://localhost:8080/"
    },
    "id": "TkYoXcB4X91D",
    "outputId": "aefd5615-21df-423e-ed77-8393f5e4c413"
   },
   "outputs": [
    {
     "data": {
      "text/plain": [
       "['SP', 'SC', 'RJ', 'RS']"
      ]
     },
     "execution_count": 1,
     "metadata": {},
     "output_type": "execute_result"
    }
   ],
   "source": [
    "lista = ['São Paulo - SP', 'Itajaí - SC', 'Rio de Janeiro - RJ', 'Porto Alegre - RS']\n",
    "\n",
    "# Aplica uma funcao lazy (map) em cada elemento da lista\n",
    "# Em seguida faz o split pelo hifen e remove o espaco em branco com o strip\n",
    "list(map(lambda x : x.split('-')[1].strip(), lista))"
   ]
  },
  {
   "cell_type": "markdown",
   "metadata": {
    "id": "9ZLELgfrpiRz"
   },
   "source": [
    "### Coleções\n",
    "#### Listas\n",
    "\n",
    "Explore a documentação da coleção do tipo List https://www.w3schools.com/python/python_ref_list.asp e demonstre o uso de alguns destes métodos."
   ]
  },
  {
   "cell_type": "code",
   "execution_count": null,
   "metadata": {
    "cellView": "form",
    "id": "Z3X9BZcCpiRz"
   },
   "outputs": [],
   "source": [
    "#@title Ver exemplo\n",
    "nome1 = 'Luiz Durão' #variável de texto (str)\n",
    "nome2 = 'André Santana'\n",
    "\n",
    "lista_jamais_utilizada = []\n",
    "lista_nomes = [nome1, 'Matheus', 'Caio']\n",
    "lista_nomes.append('Ana') #anexa um elemento ao final da lista que invoca o método\n",
    "lista_nomes.append(nome2)\n",
    "\n",
    "lista_nomes_pool = ['José','Abner' ,'Luiza']\n",
    "lista_nomes.extend(lista_nomes_pool) #anexa uma lista ao final da lista que invoca o método\n",
    "\n",
    "print(lista_nomes[4])\n",
    "print(lista_nomes)\n",
    "\n",
    "lista_nomes.sort() #ordenar\n",
    "#print('Lista Ordenada: ', lista_nomes)\n",
    "lista_nomes.clear() #apagar\n",
    "#print('Lista vazia: ',lista_nomes)"
   ]
  },
  {
   "cell_type": "code",
   "execution_count": 2,
   "metadata": {
    "id": "MGFvtJaiX9WW"
   },
   "outputs": [],
   "source": [
    "# Insere um elemento no meio da lista\n",
    "frase = ['Oi', 'bem?']\n",
    "frase.insert(1, 'tudo')"
   ]
  },
  {
   "cell_type": "code",
   "execution_count": 3,
   "metadata": {
    "id": "vSd9hu87PD0l"
   },
   "outputs": [],
   "source": [
    "# Remove 10 últimos nomes da lista\n",
    "lista_name = ['caio', 'jean', 'carol', 'ana', 'tiago', 'josias', 'fred', 'tiberio', 'paulo', 'evandro', 'daniela','ingrid', 'olga', 'ernesto']\n",
    "\n",
    "for i in range(10):\n",
    "  lista_name.pop()\n",
    "\n",
    "lista_name"
   ]
  },
  {
   "cell_type": "code",
   "execution_count": 6,
   "metadata": {
    "colab": {
     "base_uri": "https://localhost:8080/"
    },
    "id": "2IEIdX_WPtk8",
    "outputId": "de91a5ab-5041-4ef9-fd0e-9fc613a6431e"
   },
   "outputs": [],
   "source": [
    "# Funde uma lista na outra\n",
    "\n",
    "lista_a = [1,2,3,4]\n",
    "lista_b = [5,6,7,8]\n",
    "\n",
    "lista_a.extend(lista_b)"
   ]
  },
  {
   "cell_type": "markdown",
   "metadata": {
    "id": "9hebG_aKpiRz"
   },
   "source": [
    "#### Estrutura de Repetição\n",
    "\n",
    "- Utilize um laço de repetição para exibir os nomes da lista criada no exemplo anterior."
   ]
  },
  {
   "cell_type": "code",
   "execution_count": null,
   "metadata": {
    "cellView": "form",
    "id": "EOVPV7jlpiRz"
   },
   "outputs": [],
   "source": [
    "#@title Ver exemplo\n",
    "for um_nome in lista_nomes:\n",
    "    print(um_nome)"
   ]
  },
  {
   "cell_type": "code",
   "execution_count": 10,
   "metadata": {
    "id": "37hTZqPDX9B2"
   },
   "outputs": [
    {
     "name": "stdout",
     "output_type": "stream",
     "text": [
      "mario 70\n",
      "luigi 71\n",
      "biden 83\n"
     ]
    }
   ],
   "source": [
    "# Exibe nomes e respectivas idades\n",
    "lista_nomes = ['mario', 'luigi', 'biden']\n",
    "lista_idades = [70, 71, 83]\n",
    "\n",
    "for nome, idade in zip(lista_nomes, lista_idades):\n",
    "    print(nome, idade)\n"
   ]
  },
  {
   "cell_type": "markdown",
   "metadata": {
    "id": "L5q056AYpiR0"
   },
   "source": [
    "#### Dicionários\n",
    "\n",
    "- Dicionário é uma coleção não-ordenada, mutável e indexada. Em python, utilizamos { } para sua criação e tratamos sempre de pares de chaves e valores.\n",
    "- Os elementos podem ser acessados com [] informado a chave desejada.\n",
    "- Explore as operações de um dicionário: crie um dicionário, adicione uma nova chave, altere o conteúdo de uma chave, exiba as chaves e valores do dicionário e utilize um laço de repetição para mostrar apenas os valores deste dicionário (sem as chaves).\n",
    "\n"
   ]
  },
  {
   "cell_type": "code",
   "execution_count": 13,
   "metadata": {
    "cellView": "form",
    "id": "odsP85q0piR0"
   },
   "outputs": [],
   "source": [
    "#@title Ver exemplo\n",
    "dicionario_homer = {'nome':'Homer', 'sobre_nome': 'Simpson', 'idade':39, 'cidade_natal':'Springfield'}\n",
    "print('\\nDicionário\\n',dicionario_homer)\n",
    "\n",
    "dicionario_homer['nome'] = 'Homer Jay' #para mudar um valor de uma chave ou criar uma nova chave\n",
    " \n",
    "print('\\nNome = ', dicionario_homer['nome'])\n",
    "\n",
    "#exibindo as chaves do dicionário como uma lista\n",
    "print('\\n',dicionario_homer.keys())\n",
    "\n",
    "#exibindo os valores no dicionário como uma lista\n",
    "print('\\n',dicionario_homer.values(), '\\n')\n",
    "\n",
    "#para remover um item\n",
    "dicionario_homer.pop('nome')\n",
    "\n",
    "#percorrendo o dicinionário, \"iterando as chaves\"\n",
    "for chave in dicionario_homer.values():\n",
    "    print(chave)"
   ]
  },
  {
   "cell_type": "code",
   "execution_count": 26,
   "metadata": {
    "id": "8iCq_kWIX8lu"
   },
   "outputs": [
    {
     "name": "stdout",
     "output_type": "stream",
     "text": [
      "Os carros disponiveis sao: dict_keys(['Ranger', 'Gol', 'Civic', 'Fusca', 'Ferrari'])\n",
      "O carro mais caro custa: 1000000\n",
      "Os carros restantes são: dict_keys(['Ranger', 'Gol', 'Civic', 'Fusca'])\n"
     ]
    }
   ],
   "source": [
    "car_dict = {    \"Ranger\" :125000,\n",
    "                \"Gol\" : 80000,\n",
    "                \"Civic\" : 90000,\n",
    "                \"Fusca\" : 3000,\n",
    "                \"Ferrari\" : 1000000}\n",
    "\n",
    "\n",
    "# Exibe os carros\n",
    "print(f'Os carros disponiveis sao: {car_dict.keys()}')\n",
    "\n",
    "# Exibe o carro mais caro\n",
    "print(f'O carro mais caro custa: {max( list(car_dict.values()) )}')\n",
    "\n",
    "# Apaga a Ferrari\n",
    "car_dict.pop(\"Ferrari\")\n",
    "print(f'Os carros restantes são: {car_dict.keys()}')"
   ]
  },
  {
   "cell_type": "markdown",
   "metadata": {
    "id": "sopYnFgtpiR0"
   },
   "source": [
    "### Métodos & Subrotinas\n",
    "**Criando \"Procedimentos/Subrotinas\"**\n",
    "\n",
    "- Crie um conjunto de funções com e sem parâmetros, com e sem retorno"
   ]
  },
  {
   "cell_type": "code",
   "execution_count": null,
   "metadata": {
    "cellView": "form",
    "id": "6XeV3owdpiR0"
   },
   "outputs": [],
   "source": [
    "#@title Ver exemplo\n",
    "def retornarNomeAleatorio() -> str:\n",
    "    return \"Rick\"\n",
    "\n",
    "def exibirSaudacaoNome(nome : str) -> None:\n",
    "    print('Olá,', nome)\n",
    "\n",
    "def somarDoisNumeros(numero1, numero2):\n",
    "    return numero1 + numero2\n",
    "\n",
    "def calcularPotencia(base, expoente):\n",
    "    return base ** expoente\n",
    "\n",
    "def separarEstadoCidade(textoCompleto):\n",
    "    resultado = textoCompleto.split('-')\n",
    "    return resultado"
   ]
  },
  {
   "cell_type": "code",
   "execution_count": 161,
   "metadata": {
    "id": "Aywg3DUHX8JP"
   },
   "outputs": [],
   "source": [
    "def soma(a,b):\n",
    "    return a + b\n",
    "\n",
    "\n",
    "\n",
    "\n",
    "\n",
    "\n",
    "\n",
    "\n",
    "def media(lista_numeros):\n",
    "    total = 0\n",
    "    for n in lista_numeros:\n",
    "        total = total + n\n",
    "    return total / len(lista_numeros)\n",
    "\n",
    "\n",
    "\n",
    "\n",
    "\n",
    "\n",
    "\n",
    "import numpy as np\n",
    "def return_random_numby():\n",
    "    numero = np.random.randint(20)\n",
    "    frase = f\"Um numero aleatorio {numero}\"\n",
    "    return frase\n",
    "\n",
    "\n",
    "\n",
    "\n",
    "\n",
    "\n",
    "\n",
    "\n",
    "# Returns the Nth fibonacci element\n",
    "def fibonacci(N):\n",
    "    \n",
    "    numbers = [1,1]\n",
    "\n",
    "    for i in range(N):\n",
    "        numbers = [1,1]\n",
    "        last_two_sum = numbers[-1] + numbers[-2]\n",
    "        numbers.append(last_two_sum)\n",
    "    \n",
    "    return numbers[-1]\n",
    "\n",
    "\n",
    "\n",
    "\n",
    "\n",
    "\n",
    "# Funcao que calula a n-esima potencia\n",
    "def nth_power(x):\n",
    "    if x > 0:\n",
    "        valor = dobra(x-1) * 2\n",
    "        print(f'x = {x} -> {valor}')\n",
    "        return valor\n",
    "    \n",
    "    return 1"
   ]
  },
  {
   "cell_type": "markdown",
   "metadata": {
    "id": "3a4RjRfZpiR1"
   },
   "source": [
    "**Como utilizar os métodos criados**\n",
    "\n",
    "- Inicialmente, você deve cria-los em alguma célula e \"executar\" estes procedimentos antes do seu uso.\n",
    "- Em sequência, você deve chamar o método na célula em que deseja utiliza-lo, atentado-se ao nome do método, aos parâmetros enviados (quantidade e ordem) e se este método retornará ou não alguma resposta."
   ]
  },
  {
   "cell_type": "code",
   "execution_count": null,
   "metadata": {
    "cellView": "form",
    "id": "y1YgpmnapiR1"
   },
   "outputs": [],
   "source": [
    "#@title Ver exemplo\n",
    "n1 = 'Homer'\n",
    "exibirSaudacaoNome(n1) #podemos utilizar uma variável\n",
    "exibirSaudacaoNome('Simpson') #ou envir um valor diretamente\n",
    "\n",
    "result = somarDoisNumeros(3,5) #podemos retornar e armazenar o resultado em uma variável\n",
    "print(somarDoisNumeros(13, 21)) #ou pegar seu retorno e diretamente \"printar na tela\"\n",
    "\n",
    "base = 2\n",
    "exp = 8\n",
    "print(calcularPotencia(base, 5)) #a variavel pode ter o mesmo nome la da função original\n",
    "print(calcularPotencia(base, exp)) #ou pode ter um nome diferente!\n",
    "\n",
    "print(separarEstadoCidade('São Paulo - SP')) #mas fique atento, a função depende de suas regras pra funcionar\n",
    "#print(separarEstadoCidade('São Paulo | SP')) #descomente o primeiro # desta linha para ver o que acontece!"
   ]
  },
  {
   "cell_type": "code",
   "execution_count": 49,
   "metadata": {
    "id": "0xiZjn4eX7s3"
   },
   "outputs": [
    {
     "name": "stdout",
     "output_type": "stream",
     "text": [
      "50\n",
      "3.0\n"
     ]
    },
    {
     "data": {
      "text/plain": [
       "'Um numero aleatorio 0'"
      ]
     },
     "execution_count": 49,
     "metadata": {},
     "output_type": "execute_result"
    }
   ],
   "source": [
    "print(soma(10,40))\n",
    "\n",
    "print(media([1,2,3,4,5]))\n",
    "\n",
    "return_random_numby()"
   ]
  },
  {
   "cell_type": "markdown",
   "metadata": {
    "id": "D0PM7f8ApiR1"
   },
   "source": [
    "### Bibliotecas - Estatística (Pandas)\n",
    "\n",
    "1. Importe a biblioteca pandas (caso necessário, instale com: pip install pandas)\n",
    "2. Coloque seu conjunto de dados no mesmo diretório em que seu notebook foi criado\n",
    "2. Utilize pd.**read_excel**('nome.extensao') para ler planilhas do excel e pd.**read_csv**('nome.extensao') para ler arquivos csv\n",
    "\n",
    "Links Rápidos\n",
    "\n",
    "- https://pandas.pydata.org/\n",
    "- https://pandas.pydata.org/docs/reference/api/pandas.DataFrame.html\n"
   ]
  },
  {
   "cell_type": "markdown",
   "metadata": {
    "id": "cXUIfPVAxI63"
   },
   "source": [
    "#### Importando um conjunto de dados\n",
    "\n",
    "- Lembre-se que o separador de um CSV pode ser diferente, neste caso, inclua delimiter = \";\" em que ; deve ser substituído pelo separador\n",
    "- Importe a os dados do arquivo olist_orders_dataset.csv em uma variável e exiba o seu conteúdo.\n",
    "- Os dados podem ser baixados em: https://www.kaggle.com/olistbr/brazilian-ecommerce\n",
    "- Todos os conjuntos de dados utilizados nos próximos exemplos estão associados aos dados da OlistBr"
   ]
  },
  {
   "cell_type": "code",
   "execution_count": null,
   "metadata": {
    "cellView": "form",
    "id": "D43morclpiR1"
   },
   "outputs": [],
   "source": [
    "#@title Ver exemplo\n",
    "import pandas as pd\n",
    "\n",
    "df = pd.read_csv('olist_orders_dataset.csv') #faz a leitura de uma planilha, dado o seu caminho\n",
    "display(df) #exibe os resultados da planilha"
   ]
  },
  {
   "cell_type": "code",
   "execution_count": null,
   "metadata": {
    "id": "huwq0-0GX6ZW"
   },
   "outputs": [],
   "source": [
    "#@title Ver exemplo\n",
    "import pandas as pd\n",
    "\n",
    "df = pd.read_csv('olist_orders_dataset.csv') #faz a leitura de uma planilha, dado o seu caminho\n",
    "display(df) #exibe os resultados da planilha"
   ]
  },
  {
   "cell_type": "markdown",
   "metadata": {
    "id": "dlfx2qxPt5gb"
   },
   "source": [
    "#### Percorrendo um DataFrame\n",
    "\n",
    "- Percorra um DataFrame, mostrando o 'customer_id' das 10 primeiras tuplas (linhas) da base de dados\n",
    "- Dica: iterrows()"
   ]
  },
  {
   "cell_type": "code",
   "execution_count": null,
   "metadata": {
    "cellView": "form",
    "id": "0B6ypwuupiR2"
   },
   "outputs": [],
   "source": [
    "#@title Ver exemplo\n",
    "for index, row in df.iterrows(): #percorrer cada uma das linhas do DataFrame, acessando uma coluna específica para os dez primeiros elementos\n",
    "    display(row['customer_id'])\n",
    "    if index == 9:\n",
    "      break"
   ]
  },
  {
   "cell_type": "code",
   "execution_count": null,
   "metadata": {
    "id": "uWav52zBX57F"
   },
   "outputs": [],
   "source": []
  },
  {
   "cell_type": "markdown",
   "metadata": {
    "id": "Iad-4088piR2"
   },
   "source": [
    "#### Extraíndo uma Serie do DataFrame\n",
    "- Para acessar apenas uma coluna, extraindo uma Serie do DataFrame, utilize ['identificado_o_header_aqui']\n",
    "- Caso precise ver quais os nomes dos 'Headers', imprima as chaves de seu DataFrame\n",
    "- Importe o arquivo de dados olist_order_payments_dataset.csv em uma variável, exiba-o e em seguida, exiba somente a coluna 'payment_value'"
   ]
  },
  {
   "cell_type": "code",
   "execution_count": null,
   "metadata": {
    "cellView": "form",
    "id": "CQSQLjs1piR2"
   },
   "outputs": [],
   "source": [
    "#@title Ver exemplo\n",
    "df_payments = pd.read_csv(\"olist_order_payments_dataset.csv\")\n",
    "display(df_payments)\n",
    "\n",
    "#para ver as chaves\n",
    "print('\\n\\nNomes dos Headers\\n\\n',df_payments.keys(), \"\\n\")\n",
    "\n",
    "df_payments_payvalue = df_payments['payment_value']\n",
    "display(df_payments_payvalue) ##temos apenas uma das colunas aqui!\n",
    "\n"
   ]
  },
  {
   "cell_type": "code",
   "execution_count": null,
   "metadata": {
    "id": "4OQnUtvnX5fs"
   },
   "outputs": [],
   "source": []
  },
  {
   "cell_type": "markdown",
   "metadata": {
    "id": "87BXE1S6fKB4"
   },
   "source": [
    "#### Identificando valores únicos em uma Series\n",
    "\n",
    "- Utilize os dados do conjunto olist_order_payments_dataset.csv (o mesmo do exemplo anterior) e demonstre os valores únicos para a coluna \"payment_type\"\"\n"
   ]
  },
  {
   "cell_type": "code",
   "execution_count": null,
   "metadata": {
    "cellView": "form",
    "id": "GGNlxIf9fRTH"
   },
   "outputs": [],
   "source": [
    "#@title Ver exemplo\n",
    "import pandas as pd\n",
    "df = pd.read_csv(\"olist_order_payments_dataset.csv\")\n",
    "\n",
    "print(df[\"payment_type\"].unique())"
   ]
  },
  {
   "cell_type": "code",
   "execution_count": null,
   "metadata": {
    "id": "tBhJw8JggOdJ"
   },
   "outputs": [],
   "source": []
  },
  {
   "cell_type": "markdown",
   "metadata": {
    "id": "ETIxt_NlgfUP"
   },
   "source": [
    "#### Contando valores únicos em uma Series\n",
    "\n",
    "- Utilize os dados do conjunto olist_order_payments_dataset.csv (o mesmo do exemplo anterior) e identifique a quantidade de elementos recorrentes (contagem) para a coluna \"payment_type\""
   ]
  },
  {
   "cell_type": "code",
   "execution_count": null,
   "metadata": {
    "cellView": "form",
    "id": "qcWwRpYcgnjX"
   },
   "outputs": [],
   "source": [
    "#@title Ver exemplo\n",
    "import pandas as pd\n",
    "df = pd.read_csv(\"olist_order_payments_dataset.csv\")\n",
    "\n",
    "print(df[\"payment_type\"].value_counts())"
   ]
  },
  {
   "cell_type": "code",
   "execution_count": null,
   "metadata": {
    "id": "CJwOnjsKgxeK"
   },
   "outputs": [],
   "source": []
  },
  {
   "cell_type": "markdown",
   "metadata": {
    "id": "PkKkjLeOpiR2"
   },
   "source": [
    "#### Algumas funções importantes para DataFrame/Series\n",
    "\n",
    "Sr.No.|Function|Description|\n",
    "------|--------|-----------|\n",
    "1|count()|Number of non-null observations|\n",
    "2|sum()|Sum of values|\n",
    "3|mean()|Mean of Values|\n",
    "4|median()|Median of Values|\n",
    "5|mode()|Mode of values|\n",
    "6|std()|Standard Deviation of the Values|\n",
    "7|min()|Minimum Value|\n",
    "8|max()|Maximum Value|\n",
    "9|abs()|Absolute Value|\n",
    "10|prod()|Product of Values|\n",
    "11|cumsum()|Cumulative Sum|\n",
    "12|cumprod()|Cumulative Product|\n",
    "13|describe()|function computes a summary of statistics pertaining to the DataFrame columns.|\n",
    "\n",
    "- Importe o conjunto de dados olist_order_payments_dataset.csv e utilize o método describe para a coluna 'payment_value'.  "
   ]
  },
  {
   "cell_type": "code",
   "execution_count": null,
   "metadata": {
    "cellView": "form",
    "id": "HCPY1YcApiR2"
   },
   "outputs": [],
   "source": [
    "#@title Ver exemplo\n",
    "df_payments = pd.read_csv(\"olist_order_payments_dataset.csv\")\n",
    "df_payments_payvalue = df_payments['payment_value']\n",
    "\n",
    "print('\\nMédia:', df_payments_payvalue.mean())\n",
    "print('\\nDesvio Padrão:', df_payments_payvalue.std())\n",
    "print('\\nModa:', df_payments_payvalue.mode())\n",
    "print('\\nDados Estatísticos:', df_payments_payvalue.describe())"
   ]
  },
  {
   "cell_type": "code",
   "execution_count": null,
   "metadata": {
    "id": "rQhLePkhX41f"
   },
   "outputs": [],
   "source": []
  },
  {
   "cell_type": "markdown",
   "metadata": {
    "id": "GF-pmHFfpiR3"
   },
   "source": [
    "#### SubConjunto - Pandas\n",
    "- Caso seja do seu interesse extrair um subconjunto de dados de um DataFrame, com base em uma regra, utilize os operadores relacionais\n",
    "\n",
    "Operador|Descrição|\n",
    "--------|---------|\n",
    "==|igual|\n",
    "!=|diferente|\n",
    ">|maior|\n",
    "<|menor|\n",
    ">=|maior ou igual|\n",
    "<=|menor ou igual|\n",
    "\n",
    "- Crie um subconjunto de dados, contendo apenas os pagamentos realizados com \"credit_card\". Para isso, utilize o conjunto de dados olist_order_payments_dataset.csv\n"
   ]
  },
  {
   "cell_type": "code",
   "execution_count": null,
   "metadata": {
    "cellView": "form",
    "id": "GOpJSiStpiR3"
   },
   "outputs": [],
   "source": [
    "#@title Ver exemplo\n",
    "df_payments = pd.read_csv(\"olist_order_payments_dataset.csv\")\n",
    "\n",
    "regra = df_payments.payment_type == 'credit_card' #podemos gerar uma regra que \"verificará\" todo data frame\n",
    "display('\\nRegras\\n',df_payments[regra])\n",
    "\n"
   ]
  },
  {
   "cell_type": "code",
   "execution_count": null,
   "metadata": {
    "id": "74N_w-8IX3SG"
   },
   "outputs": [],
   "source": []
  },
  {
   "cell_type": "markdown",
   "metadata": {
    "id": "zVmFXKgipiR2"
   },
   "source": [
    "#### Criando um DataFrame do zero\n",
    "\n",
    "- Crie um dataframe do zero (neste exemplo vamos usar um dicionário)"
   ]
  },
  {
   "cell_type": "code",
   "execution_count": null,
   "metadata": {
    "cellView": "form",
    "id": "zbTyHbzcpiR3"
   },
   "outputs": [],
   "source": [
    "#@title Ver exemplo\n",
    "import pandas as pd \n",
    "  \n",
    "# inicializando as listas\n",
    "dados = [\n",
    "    ['Marge', 10], \n",
    "    ['Bart', 5.5], \n",
    "    ['Lisa', 9.5]\n",
    "]  #cada elemento da lista é uma lista com todos os dados da \"linha\"\n",
    "cabecalho = ['Nome', 'Nota'] #titulos das colunas\n",
    "  \n",
    "# Create the pandas DataFrame \n",
    "df = pd.DataFrame(data = dados, columns = cabecalho) #neste caso, como esta não é a ordem correta dos parâmetros, podemos \"forçar seu nome\"\n",
    "  \n",
    "# print dataframe. \n",
    "display(df)\n",
    "\n",
    "#Extra! Criando uma planilha do excel com estes dados\n",
    "df.to_excel('alunos_notas.xlsx',index = False) \n",
    "\n",
    "#Extra! Criando uma planilha csv com estes dados\n",
    "df.to_csv('alunos_notas.csv', index = False) #remove o indice\n",
    "\n",
    "#Extra! Criando uma planilha csv com estes dados\n",
    "df.to_csv('alunos_notas_2.csv', index = True) #não remove o indice\n",
    "\n",
    "regras = df.Nota >= 6.0\n",
    "display(df[df.Nota >= 6.0])"
   ]
  },
  {
   "cell_type": "markdown",
   "metadata": {
    "id": "r4E5mLZcpiR3"
   },
   "source": [
    "### Bibliotecas - Gráfica (Matplotlib)\n",
    "\n",
    "- Utulize um conjunto de listas para plotar um gráfico utilizando a biblioteca MatPlotLib"
   ]
  },
  {
   "cell_type": "code",
   "execution_count": null,
   "metadata": {
    "cellView": "form",
    "id": "aufhjjRqpiR3"
   },
   "outputs": [],
   "source": [
    "#@title Ver exemplo\n",
    "import matplotlib.pyplot as plt\n",
    "\n",
    "medias = [5.4, 6.7, 5.2, 8.5, 9.5]\n",
    "anos = list(range(2016, 2021))\n",
    "\n",
    "plt.plot(anos, medias)\n",
    "plt.show()"
   ]
  },
  {
   "cell_type": "code",
   "execution_count": 12,
   "metadata": {
    "id": "CX_sfEazX24T"
   },
   "outputs": [],
   "source": []
  },
  {
   "cell_type": "code",
   "execution_count": null,
   "metadata": {},
   "outputs": [],
   "source": []
  },
  {
   "cell_type": "code",
   "execution_count": 118,
   "metadata": {
    "scrolled": false
   },
   "outputs": [],
   "source": [
    "x = np.linspace(0, 10, 100)\n",
    "y = [np.cos(x), np.cos(x+(np.pi/2)), np.cos(x+(np.pi))]"
   ]
  },
  {
   "cell_type": "code",
   "execution_count": null,
   "metadata": {},
   "outputs": [],
   "source": []
  },
  {
   "cell_type": "code",
   "execution_count": 119,
   "metadata": {},
   "outputs": [
    {
     "data": {
      "image/png": "[encoded data removed]",
      "text/plain": [
       "<Figure size 720x576 with 3 Axes>"
      ]
     },
     "metadata": {},
     "output_type": "display_data"
    }
   ],
   "source": [
    "\n",
    "fig, ax = plt.subplots(nrows=3,figsize=(10,8))\n",
    "fig.tight_layout(pad=3.0)\n",
    "\n",
    "for i in range(3):\n",
    "    ax[i].set_facecolor('seashell')\n",
    "    ax[i].plot(x, y[i]);\n",
    "    ax[i].set_title(f\"Signal {i+1}\");\n",
    "    "
   ]
  },
  {
   "cell_type": "code",
   "execution_count": 159,
   "metadata": {},
   "outputs": [],
   "source": []
  }
 ],
 "metadata": {
  "colab": {
   "collapsed_sections": [
    "9hebG_aKpiRz",
    "L5q056AYpiR0",
    "cXUIfPVAxI63",
    "dlfx2qxPt5gb",
    "Iad-4088piR2",
    "87BXE1S6fKB4",
    "ETIxt_NlgfUP",
    "PkKkjLeOpiR2",
    "GF-pmHFfpiR3",
    "zVmFXKgipiR2"
   ],
   "name": "Caio_Cabral_Revisao.ipynb",
   "provenance": []
  },
  "kernelspec": {
   "display_name": "Python 3 (ipykernel)",
   "language": "python",
   "name": "python3"
  },
  "language_info": {
   "codemirror_mode": {
    "name": "ipython",
    "version": 3
   },
   "file_extension": ".py",
   "mimetype": "text/x-python",
   "name": "python",
   "nbconvert_exporter": "python",
   "pygments_lexer": "ipython3",
   "version": "3.9.12"
  },
  "vscode": {
   "interpreter": {
    "hash": "2a81e94307ef44f02d95609732d3daab6156cea3b201db056de5522713243f85"
   }
  }
 },
 "nbformat": 4,
 "nbformat_minor": 1
}
